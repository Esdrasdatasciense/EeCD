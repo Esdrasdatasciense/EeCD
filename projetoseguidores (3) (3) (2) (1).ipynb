{
 "cells": [
  {
   "cell_type": "markdown",
   "id": "ruled-filling",
   "metadata": {},
   "source": [
    "\n",
    "## ANALISANDO OS MEUS SEGUIDORES\n"
   ]
  },
  {
   "cell_type": "markdown",
   "id": "emotional-worth",
   "metadata": {},
   "source": [
    "## Introduçaõ e objetivo"
   ]
  },
  {
   "cell_type": "markdown",
   "id": "brilliant-crime",
   "metadata": {},
   "source": [
    "### Este projeto foi desenvolvido por ESDRAS SANTANA, À fim de analisar padrões de comportamento dos meus seguidores, do perfil @esdrasdeaquino no Instagram. Foram coletados dados de 100 usuários por meio de um questionário eletrônico. O objetivo deste projeto é fazer análises por meio da linguagem de programação Python e apenas servir como entretenimento."
   ]
  },
  {
   "cell_type": "markdown",
   "id": "three-twelve",
   "metadata": {},
   "source": [
    "## Iniciando as análises"
   ]
  },
  {
   "cell_type": "code",
   "execution_count": 2,
   "id": "steady-sierra",
   "metadata": {},
   "outputs": [],
   "source": [
    "import pandas as pd\n",
    "import matplotlib.pyplot as plt\n",
    "dados = pd.read_csv(\"DATAPESQUISA.csv\")\n",
    "plt.rcParams.update({'font.size':12})"
   ]
  },
  {
   "cell_type": "markdown",
   "id": "careful-bookmark",
   "metadata": {},
   "source": [
    "\n",
    "## Visualizando Dataset\n"
   ]
  },
  {
   "cell_type": "code",
   "execution_count": 3,
   "id": "geographic-counter",
   "metadata": {},
   "outputs": [
    {
     "data": {
      "text/html": [
       "<div>\n",
       "<style scoped>\n",
       "    .dataframe tbody tr th:only-of-type {\n",
       "        vertical-align: middle;\n",
       "    }\n",
       "\n",
       "    .dataframe tbody tr th {\n",
       "        vertical-align: top;\n",
       "    }\n",
       "\n",
       "    .dataframe thead th {\n",
       "        text-align: right;\n",
       "    }\n",
       "</style>\n",
       "<table border=\"1\" class=\"dataframe\">\n",
       "  <thead>\n",
       "    <tr style=\"text-align: right;\">\n",
       "      <th></th>\n",
       "      <th>Unnamed: 0</th>\n",
       "      <th>SEXO</th>\n",
       "      <th>SEXUALIDADE</th>\n",
       "      <th>IDADE</th>\n",
       "      <th>BAIRRO</th>\n",
       "      <th>DROGA</th>\n",
       "      <th>BOLSONARO</th>\n",
       "      <th>TRAIU</th>\n",
       "      <th>CERVEJA</th>\n",
       "      <th>TIME</th>\n",
       "      <th>CURSO</th>\n",
       "      <th>TRAIDO</th>\n",
       "    </tr>\n",
       "  </thead>\n",
       "  <tbody>\n",
       "    <tr>\n",
       "      <th>0</th>\n",
       "      <td>NaN</td>\n",
       "      <td>Mulher</td>\n",
       "      <td>Bissexual</td>\n",
       "      <td>19</td>\n",
       "      <td>Ibura</td>\n",
       "      <td>Não</td>\n",
       "      <td>Sim</td>\n",
       "      <td>N</td>\n",
       "      <td>Budweiser</td>\n",
       "      <td>Sport</td>\n",
       "      <td>Medicina veterinária</td>\n",
       "      <td>NaN</td>\n",
       "    </tr>\n",
       "    <tr>\n",
       "      <th>1</th>\n",
       "      <td>NaN</td>\n",
       "      <td>Homem</td>\n",
       "      <td>Hétero</td>\n",
       "      <td>20</td>\n",
       "      <td>Ibura</td>\n",
       "      <td>Não</td>\n",
       "      <td>Sim</td>\n",
       "      <td>N</td>\n",
       "      <td>Brahma</td>\n",
       "      <td>Sport</td>\n",
       "      <td>Engenharia Civil</td>\n",
       "      <td>NaN</td>\n",
       "    </tr>\n",
       "    <tr>\n",
       "      <th>2</th>\n",
       "      <td>NaN</td>\n",
       "      <td>Homem</td>\n",
       "      <td>Bissexual</td>\n",
       "      <td>20</td>\n",
       "      <td>Pombos</td>\n",
       "      <td>Não</td>\n",
       "      <td>Sim</td>\n",
       "      <td>S</td>\n",
       "      <td>Heineken</td>\n",
       "      <td>Sport</td>\n",
       "      <td>Cinema</td>\n",
       "      <td>S</td>\n",
       "    </tr>\n",
       "    <tr>\n",
       "      <th>3</th>\n",
       "      <td>NaN</td>\n",
       "      <td>Homem</td>\n",
       "      <td>Hétero</td>\n",
       "      <td>20</td>\n",
       "      <td>Bancários</td>\n",
       "      <td>Sim</td>\n",
       "      <td>Não</td>\n",
       "      <td>S</td>\n",
       "      <td>Heineken</td>\n",
       "      <td>Sport</td>\n",
       "      <td>Ciência de Dados e Inteligência Artificial</td>\n",
       "      <td>S</td>\n",
       "    </tr>\n",
       "    <tr>\n",
       "      <th>4</th>\n",
       "      <td>NaN</td>\n",
       "      <td>Mulher</td>\n",
       "      <td>Hétero</td>\n",
       "      <td>18</td>\n",
       "      <td>João Avelino da Silva</td>\n",
       "      <td>Não</td>\n",
       "      <td>Sim</td>\n",
       "      <td>N</td>\n",
       "      <td>Itaipava</td>\n",
       "      <td>Corinthians</td>\n",
       "      <td>Psicologia</td>\n",
       "      <td>NaN</td>\n",
       "    </tr>\n",
       "    <tr>\n",
       "      <th>...</th>\n",
       "      <td>...</td>\n",
       "      <td>...</td>\n",
       "      <td>...</td>\n",
       "      <td>...</td>\n",
       "      <td>...</td>\n",
       "      <td>...</td>\n",
       "      <td>...</td>\n",
       "      <td>...</td>\n",
       "      <td>...</td>\n",
       "      <td>...</td>\n",
       "      <td>...</td>\n",
       "      <td>...</td>\n",
       "    </tr>\n",
       "    <tr>\n",
       "      <th>95</th>\n",
       "      <td>NaN</td>\n",
       "      <td>Mulher</td>\n",
       "      <td>Bissexual</td>\n",
       "      <td>18</td>\n",
       "      <td>Ibura</td>\n",
       "      <td>Não</td>\n",
       "      <td>Sim</td>\n",
       "      <td>N</td>\n",
       "      <td>Nenhuma</td>\n",
       "      <td>Nenhum</td>\n",
       "      <td>Psicologia</td>\n",
       "      <td>S</td>\n",
       "    </tr>\n",
       "    <tr>\n",
       "      <th>96</th>\n",
       "      <td>NaN</td>\n",
       "      <td>Homem</td>\n",
       "      <td>Hétero</td>\n",
       "      <td>19</td>\n",
       "      <td>Ibura</td>\n",
       "      <td>Não</td>\n",
       "      <td>Sim</td>\n",
       "      <td>N</td>\n",
       "      <td>Nenhuma</td>\n",
       "      <td>Nenhum</td>\n",
       "      <td>Marketing</td>\n",
       "      <td>N</td>\n",
       "    </tr>\n",
       "    <tr>\n",
       "      <th>97</th>\n",
       "      <td>NaN</td>\n",
       "      <td>Homem</td>\n",
       "      <td>Hétero</td>\n",
       "      <td>18</td>\n",
       "      <td>Ibura</td>\n",
       "      <td>Não</td>\n",
       "      <td>Sim</td>\n",
       "      <td>N</td>\n",
       "      <td>Nenhuma</td>\n",
       "      <td>Sport</td>\n",
       "      <td>Engenharia mecanica</td>\n",
       "      <td>S</td>\n",
       "    </tr>\n",
       "    <tr>\n",
       "      <th>98</th>\n",
       "      <td>NaN</td>\n",
       "      <td>Mulher</td>\n",
       "      <td>Bissexual</td>\n",
       "      <td>16</td>\n",
       "      <td>Ibura</td>\n",
       "      <td>Sim</td>\n",
       "      <td>Sim</td>\n",
       "      <td>N</td>\n",
       "      <td>Brahma</td>\n",
       "      <td>Sport</td>\n",
       "      <td>Nenhum</td>\n",
       "      <td>S</td>\n",
       "    </tr>\n",
       "    <tr>\n",
       "      <th>99</th>\n",
       "      <td>NaN</td>\n",
       "      <td>Homem</td>\n",
       "      <td>Bissexual</td>\n",
       "      <td>23</td>\n",
       "      <td>Jordão baixo</td>\n",
       "      <td>Não</td>\n",
       "      <td>Sim</td>\n",
       "      <td>S</td>\n",
       "      <td>Corona</td>\n",
       "      <td>Sport</td>\n",
       "      <td>Fisioterapia</td>\n",
       "      <td>S</td>\n",
       "    </tr>\n",
       "  </tbody>\n",
       "</table>\n",
       "<p>100 rows × 12 columns</p>\n",
       "</div>"
      ],
      "text/plain": [
       "    Unnamed: 0    SEXO SEXUALIDADE  IDADE                 BAIRRO DROGA  \\\n",
       "0          NaN  Mulher   Bissexual     19                  Ibura   Não   \n",
       "1          NaN   Homem      Hétero     20                 Ibura    Não   \n",
       "2          NaN   Homem   Bissexual     20                Pombos    Não   \n",
       "3          NaN   Homem      Hétero     20              Bancários   Sim   \n",
       "4          NaN  Mulher      Hétero     18  João Avelino da Silva   Não   \n",
       "..         ...     ...         ...    ...                    ...   ...   \n",
       "95         NaN  Mulher   Bissexual     18                  Ibura   Não   \n",
       "96         NaN   Homem      Hétero     19                  Ibura   Não   \n",
       "97         NaN   Homem      Hétero     18                  Ibura   Não   \n",
       "98         NaN  Mulher   Bissexual     16                  Ibura   Sim   \n",
       "99         NaN   Homem   Bissexual     23          Jordão baixo    Não   \n",
       "\n",
       "   BOLSONARO TRAIU    CERVEJA         TIME  \\\n",
       "0        Sim     N  Budweiser        Sport   \n",
       "1        Sim     N     Brahma       Sport    \n",
       "2        Sim     S   Heineken        Sport   \n",
       "3        Não     S   Heineken        Sport   \n",
       "4        Sim     N   Itaipava  Corinthians   \n",
       "..       ...   ...        ...          ...   \n",
       "95       Sim     N    Nenhuma       Nenhum   \n",
       "96       Sim     N    Nenhuma       Nenhum   \n",
       "97       Sim     N    Nenhuma        Sport   \n",
       "98       Sim     N     Brahma        Sport   \n",
       "99       Sim     S     Corona        Sport   \n",
       "\n",
       "                                         CURSO TRAIDO  \n",
       "0                         Medicina veterinária    NaN  \n",
       "1                             Engenharia Civil    NaN  \n",
       "2                                       Cinema      S  \n",
       "3   Ciência de Dados e Inteligência Artificial      S  \n",
       "4                                   Psicologia    NaN  \n",
       "..                                         ...    ...  \n",
       "95                                 Psicologia       S  \n",
       "96                                   Marketing      N  \n",
       "97                         Engenharia mecanica      S  \n",
       "98                                      Nenhum      S  \n",
       "99                                Fisioterapia      S  \n",
       "\n",
       "[100 rows x 12 columns]"
      ]
     },
     "execution_count": 3,
     "metadata": {},
     "output_type": "execute_result"
    }
   ],
   "source": [
    "dados"
   ]
  },
  {
   "cell_type": "markdown",
   "id": "printable-mouth",
   "metadata": {},
   "source": [
    "# Análises:\n",
    "## Quais clubes meus seguidores torcem?"
   ]
  },
  {
   "cell_type": "code",
   "execution_count": 4,
   "id": "amended-authentication",
   "metadata": {},
   "outputs": [
    {
     "data": {
      "text/plain": [
       "<AxesSubplot:xlabel='Times'>"
      ]
     },
     "execution_count": 4,
     "metadata": {},
     "output_type": "execute_result"
    },
    {
     "data": {
      "image/png": "[encoded data removed]",
      "text/plain": [
       "<Figure size 432x288 with 1 Axes>"
      ]
     },
     "metadata": {
      "needs_background": "light"
     },
     "output_type": "display_data"
    }
   ],
   "source": [
    "graficox = [\"Sport\",\"Santa Cruz\",\"Náutico\",\"Corinthians\",\"São Paulo\",\"Flamengo\",\"Nenhum\",\"Outros\"]\n",
    "graficoy = [0,0,0,0,0,0,0,0]\n",
    "graficoy[0] = dados[\"TIME\"][dados[\"TIME\"]==\"Sport\"].count()\n",
    "graficoy[1] = dados[\"TIME\"][dados[\"TIME\"]==\"Santa Cruz\"].count()\n",
    "graficoy[2] = dados[\"TIME\"][dados[\"TIME\"]==\"Náutico\"].count()\n",
    "graficoy[5] = dados[\"TIME\"][dados[\"TIME\"]==\"Flamengo\"].count()\n",
    "graficoy[3] = dados[\"TIME\"][dados[\"TIME\"]==\"Corinthians\"].count()\n",
    "graficoy[4] = dados[\"TIME\"][dados[\"TIME\"]==\"São Paulo\"].count()\n",
    "graficoy[7] = dados[\"TIME\"][dados[\"TIME\"]==\"Nenhum\"].count()\n",
    "graficoy[6] = 100 - graficoy[7] - graficoy[5] - graficoy[4] - graficoy[3] - graficoy[2] - graficoy[1] - graficoy[0]\n",
    "\n",
    "a = {\"Times\":graficox, \"Quantidade\":graficoy}\n",
    "a2=pd.DataFrame(a)\n",
    "a2.plot.bar(x=\"Times\",y=\"Quantidade\")\n"
   ]
  },
  {
   "cell_type": "markdown",
   "id": "centered-municipality",
   "metadata": {},
   "source": [
    "###### O Sport tem a maior torcida entre meus seguidores, com aproximadamente 43%. seguido de Santa Cruz com 9% e Náutico com 4%."
   ]
  },
  {
   "cell_type": "markdown",
   "id": "compatible-albania",
   "metadata": {},
   "source": [
    "\n"
   ]
  },
  {
   "cell_type": "markdown",
   "id": "close-colorado",
   "metadata": {},
   "source": [
    "## ESTATÍSTICAS SOBRE O USO DE DROGAS"
   ]
  },
  {
   "cell_type": "markdown",
   "id": "enhanced-timber",
   "metadata": {},
   "source": [
    "## Quantos % dos meus seguidores afirmaram já ter usado drogas?"
   ]
  },
  {
   "cell_type": "code",
   "execution_count": 5,
   "id": "executive-texas",
   "metadata": {},
   "outputs": [
    {
     "name": "stdout",
     "output_type": "stream",
     "text": [
      "30 %\n"
     ]
    }
   ],
   "source": [
    "usuarios = dados[dados[\"DROGA\"]==\"Sim\"]\n",
    "print(usuarios[\"DROGA\"].count(),\"%\")"
   ]
  },
  {
   "cell_type": "markdown",
   "id": "latin-annotation",
   "metadata": {},
   "source": [
    "###### 30% dos meus seguidores que responderam o questionário, já usou algum tipo de droga."
   ]
  },
  {
   "cell_type": "markdown",
   "id": "corresponding-groove",
   "metadata": {},
   "source": [
    "## Quantos % São homens e Quantos % são mulher?"
   ]
  },
  {
   "cell_type": "code",
   "execution_count": 6,
   "id": "treated-retirement",
   "metadata": {},
   "outputs": [
    {
     "name": "stdout",
     "output_type": "stream",
     "text": [
      "Numero de usuarios homens: 10\n",
      "Numero de usuarios mulheres: 20\n"
     ]
    },
    {
     "data": {
      "text/plain": [
       "<AxesSubplot:xlabel='Sexo'>"
      ]
     },
     "execution_count": 6,
     "metadata": {},
     "output_type": "execute_result"
    },
    {
     "data": {
      "text/plain": [
       "<Figure size 12960x360 with 0 Axes>"
      ]
     },
     "metadata": {},
     "output_type": "display_data"
    },
    {
     "data": {
      "image/png": "[encoded data removed]",
      "text/plain": [
       "<Figure size 432x288 with 1 Axes>"
      ]
     },
     "metadata": {
      "needs_background": "light"
     },
     "output_type": "display_data"
    }
   ],
   "source": [
    "usuarios = dados[dados[\"DROGA\"]==\"Sim\"]\n",
    "usuarios_homem = usuarios[usuarios[\"SEXO\"] == \"Homem\"].count()\n",
    "usuarios_mulher = usuarios[usuarios[\"SEXO\"] == \"Mulher\"].count()\n",
    "print(\"Numero de usuarios homens:\", usuarios_homem[\"SEXO\"])\n",
    "usuarios_homem = usuarios[usuarios[\"SEXO\"] == \"Homem\"]\n",
    "print(\"Numero de usuarios mulheres:\", usuarios_mulher[\"SEXO\"])\n",
    "\n",
    "g_x = [\"Homens\", \"Mulheres\", \"Nunca usaram\"]\n",
    "g_y = [10,20,70]\n",
    "\n",
    "a = {\"Sexo\":g_x, \"Porcentagem do uso de drogas\":g_y}\n",
    "a2=pd.DataFrame(a)\n",
    "plt.figure(figsize = (180,5))\n",
    "a2.plot.bar(x=\"Sexo\",y=\"Porcentagem do uso de drogas\")"
   ]
  },
  {
   "cell_type": "markdown",
   "id": "sticky-diary",
   "metadata": {},
   "source": [
    "###### Dos 30% que afirmaram ter usado algum tipo de droga, 10% são homens, e 20% mulheres."
   ]
  },
  {
   "cell_type": "markdown",
   "id": "placed-waterproof",
   "metadata": {},
   "source": [
    "## Qual a média de idade dos meus seguidores que já usaram drogas?"
   ]
  },
  {
   "cell_type": "code",
   "execution_count": 8,
   "id": "promotional-receipt",
   "metadata": {},
   "outputs": [
    {
     "name": "stdout",
     "output_type": "stream",
     "text": [
      "19.266666666666666\n"
     ]
    },
    {
     "data": {
      "text/plain": [
       "(0.0, 8.0)"
      ]
     },
     "execution_count": 8,
     "metadata": {},
     "output_type": "execute_result"
    },
    {
     "data": {
      "image/png": "[encoded data removed]",
      "text/plain": [
       "<Figure size 576x360 with 1 Axes>"
      ]
     },
     "metadata": {
      "needs_background": "light"
     },
     "output_type": "display_data"
    }
   ],
   "source": [
    "print(usuarios[\"IDADE\"].mean())\n",
    "\n",
    "idade = [14,15,16,17,18,19,20,21,25,29]\n",
    "qntd = [1,1,3,3,3,7,5,4,4,1]\n",
    "\n",
    "plt.figure(figsize = (8,5))\n",
    "plt.scatter(idade,qntd, color = 'deeppink', marker = 'o', s = 100, edgecolor = 'black')\n",
    "plt.xlabel('Idade dos usuários', fontsize = 18)\n",
    "plt.ylabel('Número de uso por idade', fontsize = 18)\n",
    "plt.title(\"\"\"Histograma\"\"\")\n",
    "plt.xlim(13,30)\n",
    "plt.ylim(0,8)"
   ]
  },
  {
   "cell_type": "code",
   "execution_count": null,
   "id": "heated-haven",
   "metadata": {},
   "outputs": [],
   "source": [
    "###### No Gráfico de histograma é possível observa"
   ]
  },
  {
   "cell_type": "markdown",
   "id": "correct-hotel",
   "metadata": {},
   "source": [
    "###### A Média de idade das pessoas que já usaram drogas é 19 anos."
   ]
  },
  {
   "cell_type": "markdown",
   "id": "empirical-prompt",
   "metadata": {},
   "source": [
    "## Quais bairros tem mais usuários de drogas?"
   ]
  },
  {
   "cell_type": "code",
   "execution_count": 11,
   "id": "optical-marina",
   "metadata": {},
   "outputs": [
    {
     "name": "stdout",
     "output_type": "stream",
     "text": [
      "Usuários de drogas por bairro: \n",
      "\n"
     ]
    },
    {
     "data": {
      "text/plain": [
       "BAIRRO\n",
       "Ibura             10\n",
       "Ibura              3\n",
       "Boa viagem         2\n",
       "Jordão baixo       2\n",
       "Imbiribeira        1\n",
       "Vista Alegre       1\n",
       "Vasco da Gama      1\n",
       "Recife             1\n",
       "Piedade            1\n",
       "Alto               1\n",
       "Imbiribeira        1\n",
       "Bancários          1\n",
       "Centro             1\n",
       "Centenário         1\n",
       "Cavaleiro          1\n",
       "Campo Grande       1\n",
       "portal do sol      1\n",
       "Name: DROGA, dtype: int64"
      ]
     },
     "execution_count": 11,
     "metadata": {},
     "output_type": "execute_result"
    }
   ],
   "source": [
    "usuarios_bairro = usuarios.groupby([\"BAIRRO\"]).count()\n",
    "print(\"Usuários de drogas por bairro: \\n\")\n",
    "usuarios_bairro_drogas = usuarios_bairro.sort_values(by = \"DROGA\", ascending = False)\n",
    "usuarios_bairro_drogas[\"DROGA\"]\n",
    "\n"
   ]
  },
  {
   "cell_type": "markdown",
   "id": "regulated-adult",
   "metadata": {},
   "source": [
    "###### 13% dos usuários de drogas são do Ibura. \n",
    "###### 2% de Boa Viagem\n",
    "###### 2% do Jordão Baixo\n",
    "###### 2% da Imbiribeira\n",
    "###### e 11% de outros bairros."
   ]
  }
 ],
 "metadata": {
  "kernelspec": {
   "display_name": "Python 3",
   "language": "python",
   "name": "python3"
  },
  "language_info": {
   "codemirror_mode": {
    "name": "ipython",
    "version": 3
   },
   "file_extension": ".py",
   "mimetype": "text/x-python",
   "name": "python",
   "nbconvert_exporter": "python",
   "pygments_lexer": "ipython3",
   "version": "3.6.13"
  }
 },
 "nbformat": 4,
 "nbformat_minor": 5
}
